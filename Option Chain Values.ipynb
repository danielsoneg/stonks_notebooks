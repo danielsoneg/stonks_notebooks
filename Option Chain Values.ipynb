{
 "cells": [
  {
   "cell_type": "markdown",
   "id": "appreciated-happening",
   "metadata": {},
   "source": [
    "# Option Chain Return Plot\n",
    "This notebook will grab the option chain for a given stock and expiration date from Tradier's sandbox API and, given an expected price, graph the percent return for either put or call options should the stock be at that price on the expiration date.\n",
    "\n",
    "### Notes\n",
    "1. The data from Tradier's sandbox is delayed by up to a day. This should not be used for making actual investment decisions.\n",
    "2. This is an _extremely_ simple model of option valuation. It assumes you hold the option until the expiration date and exercise it. It does not take into account any value fluctuation over the time you hold the option.\n",
    "3. This is a really rough notebook. Errors and unexpected values will generate tracebacks, not useful messages.\n",
    "\n",
    "### Option Value Formula\n",
    "% Return = (Strike - ExpectedPrice - Ask) / Ask\n",
    "\n",
    "### Requirements\n",
    "You must sign up for a developer account at Tradier to use the API\n",
    "\n",
    "### Usage:\n",
    "```\n",
    "best_value(symbol, expiry, expected_price=??)\n",
    "ex:\n",
    "best_value(\"GME\", \"2021-02-26\", expected_price=20)\n",
    "```"
   ]
  },
  {
   "cell_type": "code",
   "execution_count": 1,
   "id": "local-tanzania",
   "metadata": {},
   "outputs": [],
   "source": [
    "TRADIER_API_TOKEN = #SIGN UP AT DEVELOPER.TRADIER.COM"
   ]
  },
  {
   "cell_type": "code",
   "execution_count": 2,
   "id": "difficult-progress",
   "metadata": {},
   "outputs": [],
   "source": [
    "import requests\n",
    "from matplotlib import pyplot as plt"
   ]
  },
  {
   "cell_type": "code",
   "execution_count": 3,
   "id": "protected-iceland",
   "metadata": {},
   "outputs": [],
   "source": [
    "def make_call(url, params):\n",
    "    url = \"https://sandbox.tradier.com/v1/%s\" % url\n",
    "    headers = {\"Authorization\": \"Bearer %s\" % TRADIER_API_TOKEN, \"Accept\": \"application/json\"}\n",
    "    return requests.get(url, params=params, headers=headers).json()\n",
    "\n",
    "def get_chains(symbol, expiry):\n",
    "    url = \"markets/options/chains\"\n",
    "    params = {\"symbol\": symbol, \"expiration\": expiry}\n",
    "    return make_call(url, params)[\"options\"][\"option\"]\n",
    "\n",
    "def get_price(symbol):\n",
    "    url = \"markets/quotes\"\n",
    "    params = {\"symbols\": symbol}\n",
    "    return make_call(url, params)[\"quotes\"][\"quote\"][\"last\"]"
   ]
  },
  {
   "cell_type": "code",
   "execution_count": 4,
   "id": "loved-necklace",
   "metadata": {},
   "outputs": [],
   "source": [
    "# Helper functions\n",
    "\n",
    "def overall(option, expected_price):\n",
    "    return option[\"strike\"], option[\"ask\"], option['strike'] - expected_price, pct_ret(option, expected_price)\n",
    "\n",
    "def pct_ret(option, expected_price):\n",
    "    value = (option['strike'] - expected_price) - option['ask']\n",
    "    pct_ret = float(value) / option['ask']\n",
    "    return pct_ret * 100\n",
    "\n",
    "def puts_and_calls(options):\n",
    "    puts = []\n",
    "    calls = []\n",
    "    for option in options:\n",
    "        if option[\"option_type\"] == \"put\":\n",
    "            puts.append(option)\n",
    "        elif option[\"option_type\"] == \"call\":\n",
    "            calls.append(option)\n",
    "    return puts, calls\n",
    "\n",
    "def makeplot(plt, strike, ret, max_ret, price):\n",
    "    plt.rcParams['figure.figsize'] = [8, 6]\n",
    "    fig = plt.figure()\n",
    "    ax = plt.axes()\n",
    "    plt.grid()\n",
    "    plt.ylim(-1, (max(ret)+5))\n",
    "    plt.xlabel(\"Strike\")\n",
    "    plt.ylabel(\"Return (pct)\")\n",
    "    plt.plot(strike, ret, label=\"Expected return at %s\" % price)\n",
    "    plt.title(\"Max return: %d%% (\\$%d) at strike %d (ask %d)\" % (\n",
    "        max_ret[3], (max_ret[3] * max_ret[1]) / 100, max_ret[0], max_ret[1]))\n",
    "    plt.show()\n",
    "\n",
    "def get_values(options, expected_price):\n",
    "    values = [overall(o, expected_price) for o in options]\n",
    "    strike = [i[0] for i in values]\n",
    "    ret = [i[3] for i in values]\n",
    "    max_ret = sorted(values, key=lambda i: -i[3])[0]\n",
    "    return strike, ret, max_ret\n"
   ]
  },
  {
   "cell_type": "code",
   "execution_count": 5,
   "id": "tropical-generator",
   "metadata": {},
   "outputs": [],
   "source": [
    "def best_return(symbol, expiry, expected_price, puts=True):\n",
    "    \"\"\"Plot the percent returns for the option chain for the symbol, expiration, and price given.\n",
    "    \n",
    "    Params:\n",
    "        symbol: String: the stock symbol to check\n",
    "        expiry: String: Expiration date, formatted as YYYY-MM-DD\n",
    "        expected_price: Numeric: Price you expect the stock to be at expiry\n",
    "        puts: Bool[True]: Check puts if true, calls if false\n",
    "    \n",
    "    Returns:\n",
    "        Graph showing return curve for options\n",
    "    \"\"\"\n",
    "    options = get_chains(symbol, expiry)\n",
    "    puts, calls = puts_and_calls(options)\n",
    "    if puts:\n",
    "        options = puts\n",
    "    else:\n",
    "        options = calls\n",
    "    strike, ret, max_ret = get_values(options, expected_price)\n",
    "    makeplot(plt, strike, ret, max_ret, expected_price)"
   ]
  },
  {
   "cell_type": "code",
   "execution_count": 6,
   "id": "assured-miracle",
   "metadata": {},
   "outputs": [
    {
     "data": {
      "text/plain": [
       "147.98"
      ]
     },
     "execution_count": 6,
     "metadata": {},
     "output_type": "execute_result"
    }
   ],
   "source": [
    "get_price(\"gme\")"
   ]
  },
  {
   "cell_type": "code",
   "execution_count": 7,
   "id": "bridal-startup",
   "metadata": {},
   "outputs": [
    {
     "data": {
      "image/png": "[encoded data removed]",
      "text/plain": [
       "<Figure size 576x432 with 1 Axes>"
      ]
     },
     "metadata": {
      "needs_background": "light"
     },
     "output_type": "display_data"
    }
   ],
   "source": [
    "best_return(\"GME\", \"2021-02-26\", expected_price=20)"
   ]
  }
 ],
 "metadata": {
  "kernelspec": {
   "display_name": "Python 3",
   "language": "python",
   "name": "python3"
  },
  "language_info": {
   "codemirror_mode": {
    "name": "ipython",
    "version": 3
   },
   "file_extension": ".py",
   "mimetype": "text/x-python",
   "name": "python",
   "nbconvert_exporter": "python",
   "pygments_lexer": "ipython3",
   "version": "3.9.1"
  }
 },
 "nbformat": 4,
 "nbformat_minor": 5
}
